{
 "cells": [
  {
   "cell_type": "code",
   "execution_count": 1,
   "metadata": {},
   "outputs": [],
   "source": [
    "def roll_futures(df1, df2):\n",
    "    '''Given a dataframe of front month contract and second month contract, return\n",
    "    one dataframe of front month contract observations, where rows are replaced with values\n",
    "    from the second month for dates that fall between my desired \"rolling period\" and the expiration\n",
    "    of the 'front month' contract'''\n",
    "    "
   ]
  },
  {
   "cell_type": "code",
   "execution_count": 1,
   "metadata": {},
   "outputs": [],
   "source": [
    "def find_turning_point(df):\n",
    "    '''Find tops and bottoms of cycles, defined as local maxima/minima'''\n",
    "    "
   ]
  },
  {
   "cell_type": "code",
   "execution_count": 2,
   "metadata": {},
   "outputs": [
    {
     "ename": "SyntaxError",
     "evalue": "invalid syntax (<ipython-input-2-c843a587b855>, line 7)",
     "output_type": "error",
     "traceback": [
      "\u001b[0;36m  File \u001b[0;32m\"<ipython-input-2-c843a587b855>\"\u001b[0;36m, line \u001b[0;32m7\u001b[0m\n\u001b[0;31m    'Stop': (stop, stop['Low'])\u001b[0m\n\u001b[0m         ^\u001b[0m\n\u001b[0;31mSyntaxError\u001b[0m\u001b[0;31m:\u001b[0m invalid syntax\n"
     ]
    }
   ],
   "source": [
    "def record_trend(start, stop, direction):\n",
    "    '''Returns a dictionary with date, price tuples for start and end dates of trends'''\n",
    "    \n",
    "    if direction == up:\n",
    "        trend = {\n",
    "            'Start': (start, start['Low'])\n",
    "            'Stop': (stop, stop['Low'])\n",
    "            'Start Price': \n",
    "            'End Price': \n",
    "        }"
   ]
  },
  {
   "cell_type": "code",
   "execution_count": null,
   "metadata": {},
   "outputs": [],
   "source": [
    "# for local maxima\n",
    "maxs = argrelextrema(decomp.trend.values, np.greater, order=5)\n",
    "max_dates = [wheat['2016'].iloc[i].index for i in maxs]\n",
    "maxes = [date for date in wheat['2016'].index if date in max_dates[0]]\n",
    "\n",
    "# for local minima\n",
    "mins = argrelextrema(decomp.trend.values, np.less, order=5)\n",
    "min_dates = [wheat['2016'].iloc[i].index for i in mins]\n",
    "mines = [date for date in wheat['2016'].index if date in min_dates[0]]"
   ]
  },
  {
   "cell_type": "code",
   "execution_count": 1,
   "metadata": {},
   "outputs": [
    {
     "ename": "SyntaxError",
     "evalue": "invalid syntax (<ipython-input-1-c843a587b855>, line 7)",
     "output_type": "error",
     "traceback": [
      "\u001b[0;36m  File \u001b[0;32m\"<ipython-input-1-c843a587b855>\"\u001b[0;36m, line \u001b[0;32m7\u001b[0m\n\u001b[0;31m    'Stop': (stop, stop['Low'])\u001b[0m\n\u001b[0m         ^\u001b[0m\n\u001b[0;31mSyntaxError\u001b[0m\u001b[0;31m:\u001b[0m invalid syntax\n"
     ]
    }
   ],
   "source": [
    "def record_trend(start, stop, direction):\n",
    "    '''Returns a dictionary with date, price tuples for start and end dates of trends'''\n",
    "    \n",
    "    if direction == up:\n",
    "        trend = {\n",
    "            'Start': (start, start['Low'])\n",
    "            'Stop': (stop, stop['Low'])\n",
    "            'Start Price': \n",
    "            'End Price': \n",
    "        }"
   ]
  },
  {
   "cell_type": "code",
   "execution_count": 2,
   "metadata": {},
   "outputs": [],
   "source": [
    "def identify_trend(df, period=30):\n",
    "    '''Given time series price data, identify upward and downward trending markets'''\n",
    "    \n",
    "    # Calculate change in moving average\n",
    "    df['{}dma_slope'.format(period)] = df['{}dma'.format(period)].pct_change()\n",
    "    \n",
    "    for i, row in df.iterrows():\n",
    "        if is_up == False:\n",
    "            if row['{}dma_slope'.format(period)] > 0: # check for the start of an uptrend\n",
    "                uptrends += 1\n",
    "                is_up = True\n",
    "                is_down = False\n",
    "                is_flat = False\n",
    "                is_unclassified = False\n",
    "                uptrend_starts.append(i)\n",
    "        elif is_up == True: \n",
    "            if row['{}dma_slope'.format(period)] <= 0: # check for the end of an uptrend\n",
    "                is_up = False\n",
    "                uptrend_stops.append(i)\n",
    "        if is_down == False:\n",
    "            if row['{}dma_slope'.format(period)] < 0: # check for the start of a downtrend\n",
    "                downtrends += 1\n",
    "                is_up = False\n",
    "                is_down = True\n",
    "                downtrend_starts.append(i)\n",
    "        elif is_down == True:\n",
    "            if row['{}dma_slope'.format(period)] >= 0: # check for the end of a downtrend\n",
    "                is_down = False\n",
    "                downtrend_stops.append(i)"
   ]
  },
  {
   "cell_type": "code",
   "execution_count": 3,
   "metadata": {},
   "outputs": [],
   "source": [
    "def trend_tracker(df, period=30):\n",
    "    '''Given time series price data, identify upward and downward trending markets'''\n",
    "    \n",
    "    # Calculate change in moving average\n",
    "    df['{}dma_slope'.format(period)] = df['{}dma'.format(period)].pct_change()\n",
    "    \n",
    "    # Initialize counters for uptrends and downtrends...\n",
    "    uptrends = 0\n",
    "    downtrends = 0\n",
    "    ranges = 0\n",
    "\n",
    "    # ...lists to contain start and stop dates...\n",
    "    uptrend_starts = []\n",
    "    uptrend_stops = []\n",
    "    downtrend_starts = []\n",
    "    downtrend_stops = []\n",
    "    flat_starts = []\n",
    "    flat_stops = []\n",
    "    \n",
    "    # ...and booleans to indicate if the current market is in an uptrend or downtrend\n",
    "    is_up = False\n",
    "    is_down = False\n",
    "    is_flat = False\n",
    "    \n",
    "    for i, row in df.iterrows():\n",
    "        if is_flat == False:\n",
    "            if (row['{}dma_slope'.format(period)] < 0.5) & (row['{}dma_slope'.format(period)] > -0.5):\n",
    "                ranges += 1\n",
    "                is_flat = True\n",
    "                is_up = False\n",
    "                is_down = False\n",
    "                flat_starts.append(i)\n",
    "        elif is_flat == True:\n",
    "            if (row['{}dma_slope'.format(period)] < 0.5) | (row['{}dma_slope'.format(period)] > -0.5):\n",
    "                flat_stops.append(i)\n",
    "                \n",
    "        if is_up == False:\n",
    "            if row['{}dma_slope'.format(period)] > 0.5: # check for the start of an uptrend\n",
    "                uptrends += 1\n",
    "                is_up = True\n",
    "                is_down = False\n",
    "                is_flat = False\n",
    "                is_unclassified = False\n",
    "                uptrend_starts.append(i)\n",
    "        elif is_up == True: \n",
    "            if row['{}dma_slope'.format(period)] <= 0: # check for the end of an uptrend\n",
    "                is_up = False\n",
    "                uptrend_stops.append(i)\n",
    "                \n",
    "        if is_down == False:\n",
    "            if row['{}dma_slope'.format(period)] < -0.5: # check for the start of a downtrend\n",
    "                downtrends += 1\n",
    "                is_up = False\n",
    "                is_down = True\n",
    "                is_flat = False\n",
    "                downtrend_starts.append(i)\n",
    "        elif is_down == True:\n",
    "            if row['{}dma_slope'.format(period)] >= 0: # check for the end of a downtrend\n",
    "                is_down = False\n",
    "                downtrend_stops.append(i)\n",
    "            \n",
    "    return uptrends, downtrends, ranges, uptrend_starts, uptrend_stops, downtrend_starts, downtrend_stops, flat_starts, flat_stops"
   ]
  },
  {
   "cell_type": "markdown",
   "metadata": {},
   "source": [
    "# Code from DY"
   ]
  },
  {
   "cell_type": "code",
   "execution_count": 1,
   "metadata": {},
   "outputs": [
    {
     "name": "stderr",
     "output_type": "stream",
     "text": [
      "/home/mattg/anaconda3/envs/dsi/lib/python3.6/site-packages/h5py/__init__.py:36: FutureWarning: Conversion of the second argument of issubdtype from `float` to `np.floating` is deprecated. In future, it will be treated as `np.float64 == np.dtype(float).type`.\n",
      "  from ._conv import register_converters as _register_converters\n",
      "Using TensorFlow backend.\n"
     ]
    },
    {
     "name": "stdout",
     "output_type": "stream",
     "text": [
      "Couldn't import dot_parser, loading of dot files will not be possible.\n"
     ]
    },
    {
     "name": "stderr",
     "output_type": "stream",
     "text": [
      "/home/mattg/anaconda3/envs/dsi/lib/python3.6/site-packages/sklearn/cross_validation.py:41: DeprecationWarning: This module was deprecated in version 0.18 in favor of the model_selection module into which all the refactored classes and functions are moved. Also note that the interface of the new CV iterators are different from that of this module. This module will be removed in 0.20.\n",
      "  \"This module will be removed in 0.20.\", DeprecationWarning)\n"
     ]
    }
   ],
   "source": [
    "import numpy as np, pandas as pd\n",
    "import matplotlib.pyplot as plt\n",
    "\n",
    "import math\n",
    "\n",
    "from keras.models import Sequential\n",
    "from keras.layers import Dense, Dropout\n",
    "from keras.layers import LSTM\n",
    "\n",
    "from sklearn.preprocessing import MinMaxScaler\n",
    "from sklearn.metrics import mean_squared_error\n",
    "from sklearn.cross_validation import train_test_split\n",
    "\n",
    "%matplotlib inline"
   ]
  },
  {
   "cell_type": "code",
   "execution_count": 2,
   "metadata": {},
   "outputs": [],
   "source": [
    "def create_window(data, window_size = 1):    \n",
    "    data_s = data.copy()\n",
    "    for i in range(window_size):\n",
    "        data = pd.concat([data, data_s.shift(-(i + 1))], \n",
    "                            axis = 1)\n",
    "        \n",
    "    data.dropna(axis=0, inplace=True)\n",
    "    return(data)"
   ]
  },
  {
   "cell_type": "code",
   "execution_count": 3,
   "metadata": {},
   "outputs": [
    {
     "ename": "NameError",
     "evalue": "name 'casual' is not defined",
     "output_type": "error",
     "traceback": [
      "\u001b[0;31m---------------------------------------------------------------------------\u001b[0m",
      "\u001b[0;31mNameError\u001b[0m                                 Traceback (most recent call last)",
      "\u001b[0;32m<ipython-input-3-d3c87dafe0d1>\u001b[0m in \u001b[0;36m<module>\u001b[0;34m\u001b[0m\n\u001b[1;32m      1\u001b[0m \u001b[0mwindow_size\u001b[0m \u001b[0;34m=\u001b[0m \u001b[0;36m1\u001b[0m\u001b[0;34m\u001b[0m\u001b[0m\n\u001b[1;32m      2\u001b[0m \u001b[0;34m\u001b[0m\u001b[0m\n\u001b[0;32m----> 3\u001b[0;31m \u001b[0mcasual_window\u001b[0m \u001b[0;34m=\u001b[0m \u001b[0mcreate_window\u001b[0m\u001b[0;34m(\u001b[0m\u001b[0mcasual\u001b[0m\u001b[0;34m,\u001b[0m \u001b[0mwindow_size\u001b[0m \u001b[0;34m=\u001b[0m \u001b[0mwindow_size\u001b[0m\u001b[0;34m)\u001b[0m\u001b[0;34m\u001b[0m\u001b[0m\n\u001b[0m\u001b[1;32m      4\u001b[0m \u001b[0;34m\u001b[0m\u001b[0m\n\u001b[1;32m      5\u001b[0m \u001b[0mX\u001b[0m \u001b[0;34m=\u001b[0m \u001b[0mcasual_window\u001b[0m\u001b[0;34m.\u001b[0m\u001b[0miloc\u001b[0m\u001b[0;34m[\u001b[0m\u001b[0;34m:\u001b[0m\u001b[0;34m,\u001b[0m \u001b[0;36m0\u001b[0m\u001b[0;34m:\u001b[0m\u001b[0;36m1\u001b[0m\u001b[0;34m]\u001b[0m\u001b[0;34m\u001b[0m\u001b[0m\n",
      "\u001b[0;31mNameError\u001b[0m: name 'casual' is not defined"
     ]
    }
   ],
   "source": [
    "window_size = 1\n",
    "\n",
    "casual_window = create_window(casual, window_size = window_size)\n",
    "\n",
    "X = casual_window.iloc[:, 0:1]\n",
    "y = casual_window.iloc[:, 1]\n",
    "\n",
    "X = np.reshape(X.values, (X.shape[0], 1, X.shape[1]))\n",
    "\n",
    "# Will use internal validation inside of Keras -- this is the equivalent\n",
    "# X_train, X_test, y_train, y_test = train_test_split(X, y, test_size = .3)"
   ]
  },
  {
   "cell_type": "code",
   "execution_count": 4,
   "metadata": {},
   "outputs": [
    {
     "ename": "NameError",
     "evalue": "name 'X' is not defined",
     "output_type": "error",
     "traceback": [
      "\u001b[0;31m---------------------------------------------------------------------------\u001b[0m",
      "\u001b[0;31mNameError\u001b[0m                                 Traceback (most recent call last)",
      "\u001b[0;32m<ipython-input-4-0b4b7c5871ce>\u001b[0m in \u001b[0;36m<module>\u001b[0;34m\u001b[0m\n\u001b[1;32m      3\u001b[0m \u001b[0;34m\u001b[0m\u001b[0m\n\u001b[1;32m      4\u001b[0m \u001b[0;31m# model.add(LSTM(4, input_shape=(1, window_size-1)))\u001b[0m\u001b[0;34m\u001b[0m\u001b[0;34m\u001b[0m\u001b[0m\n\u001b[0;32m----> 5\u001b[0;31m \u001b[0mmodel\u001b[0m\u001b[0;34m.\u001b[0m\u001b[0madd\u001b[0m\u001b[0;34m(\u001b[0m\u001b[0mLSTM\u001b[0m\u001b[0;34m(\u001b[0m\u001b[0minput_shape\u001b[0m\u001b[0;34m=\u001b[0m\u001b[0;34m(\u001b[0m\u001b[0mX\u001b[0m\u001b[0;34m.\u001b[0m\u001b[0mshape\u001b[0m\u001b[0;34m[\u001b[0m\u001b[0;36m1\u001b[0m\u001b[0;34m]\u001b[0m\u001b[0;34m,\u001b[0m \u001b[0mX\u001b[0m\u001b[0;34m.\u001b[0m\u001b[0mshape\u001b[0m\u001b[0;34m[\u001b[0m\u001b[0;36m2\u001b[0m\u001b[0;34m]\u001b[0m\u001b[0;34m)\u001b[0m\u001b[0;34m,\u001b[0m \u001b[0munits\u001b[0m\u001b[0;34m=\u001b[0m\u001b[0;36m25\u001b[0m\u001b[0;34m,\u001b[0m \u001b[0mactivation\u001b[0m\u001b[0;34m=\u001b[0m\u001b[0;34m'relu'\u001b[0m\u001b[0;34m)\u001b[0m\u001b[0;34m)\u001b[0m\u001b[0;34m\u001b[0m\u001b[0m\n\u001b[0m\u001b[1;32m      6\u001b[0m \u001b[0mmodel\u001b[0m\u001b[0;34m.\u001b[0m\u001b[0madd\u001b[0m\u001b[0;34m(\u001b[0m\u001b[0mDropout\u001b[0m\u001b[0;34m(\u001b[0m\u001b[0;36m0.2\u001b[0m\u001b[0;34m)\u001b[0m\u001b[0;34m)\u001b[0m\u001b[0;34m\u001b[0m\u001b[0m\n\u001b[1;32m      7\u001b[0m \u001b[0mmodel\u001b[0m\u001b[0;34m.\u001b[0m\u001b[0madd\u001b[0m\u001b[0;34m(\u001b[0m\u001b[0mDense\u001b[0m\u001b[0;34m(\u001b[0m\u001b[0;36m1\u001b[0m\u001b[0;34m)\u001b[0m\u001b[0;34m)\u001b[0m\u001b[0;34m\u001b[0m\u001b[0m\n",
      "\u001b[0;31mNameError\u001b[0m: name 'X' is not defined"
     ]
    }
   ],
   "source": [
    "# create and fit the LSTM network\n",
    "model = Sequential()\n",
    "\n",
    "# model.add(LSTM(4, input_shape=(1, window_size-1)))\n",
    "model.add(LSTM(input_shape=(X.shape[1], X.shape[2]), units=25, activation='relu'))\n",
    "model.add(Dropout(0.2))\n",
    "model.add(Dense(1))\n",
    "model.compile(loss='mean_squared_logarithmic_error', optimizer='adam')\n",
    "history = model.fit(x=X, y=y.values, epochs=800, batch_size=70, verbose=0, validation_split=.3)"
   ]
  },
  {
   "cell_type": "code",
   "execution_count": 6,
   "metadata": {},
   "outputs": [
    {
     "ename": "NameError",
     "evalue": "name 'history' is not defined",
     "output_type": "error",
     "traceback": [
      "\u001b[0;31m---------------------------------------------------------------------------\u001b[0m",
      "\u001b[0;31mNameError\u001b[0m                                 Traceback (most recent call last)",
      "\u001b[0;32m<ipython-input-6-99644a0834d2>\u001b[0m in \u001b[0;36m<module>\u001b[0;34m\u001b[0m\n\u001b[0;32m----> 1\u001b[0;31m \u001b[0mmetrics\u001b[0m \u001b[0;34m=\u001b[0m \u001b[0mpd\u001b[0m\u001b[0;34m.\u001b[0m\u001b[0mDataFrame\u001b[0m\u001b[0;34m(\u001b[0m\u001b[0mhistory\u001b[0m\u001b[0;34m.\u001b[0m\u001b[0mhistory\u001b[0m\u001b[0;34m,\u001b[0m \u001b[0mcolumns\u001b[0m\u001b[0;34m=\u001b[0m\u001b[0;34m[\u001b[0m\u001b[0;34m'val_loss'\u001b[0m\u001b[0;34m,\u001b[0m \u001b[0;34m'loss'\u001b[0m\u001b[0;34m]\u001b[0m\u001b[0;34m)\u001b[0m\u001b[0;34m\u001b[0m\u001b[0m\n\u001b[0m",
      "\u001b[0;31mNameError\u001b[0m: name 'history' is not defined"
     ]
    }
   ],
   "source": [
    "metrics = pd.DataFrame(history.history, columns=['val_loss', 'loss'])"
   ]
  },
  {
   "cell_type": "code",
   "execution_count": 7,
   "metadata": {},
   "outputs": [
    {
     "ename": "NameError",
     "evalue": "name 'X' is not defined",
     "output_type": "error",
     "traceback": [
      "\u001b[0;31m---------------------------------------------------------------------------\u001b[0m",
      "\u001b[0;31mNameError\u001b[0m                                 Traceback (most recent call last)",
      "\u001b[0;32m<ipython-input-7-959abdd9dd80>\u001b[0m in \u001b[0;36m<module>\u001b[0;34m\u001b[0m\n\u001b[1;32m      2\u001b[0m \u001b[0mfig\u001b[0m\u001b[0;34m.\u001b[0m\u001b[0msuptitle\u001b[0m\u001b[0;34m(\u001b[0m\u001b[0;34m\"LSTM: Timestep $-1$, Dropout: .2, units: 25, epochs: 1300, validation: .3, loss: RMSLogE\"\u001b[0m\u001b[0;34m)\u001b[0m\u001b[0;34m\u001b[0m\u001b[0m\n\u001b[1;32m      3\u001b[0m \u001b[0;34m\u001b[0m\u001b[0m\n\u001b[0;32m----> 4\u001b[0;31m \u001b[0my_hat\u001b[0m \u001b[0;34m=\u001b[0m \u001b[0mmodel\u001b[0m\u001b[0;34m.\u001b[0m\u001b[0mpredict\u001b[0m\u001b[0;34m(\u001b[0m\u001b[0mX\u001b[0m\u001b[0;34m)\u001b[0m\u001b[0;34m\u001b[0m\u001b[0m\n\u001b[0m\u001b[1;32m      5\u001b[0m \u001b[0;34m\u001b[0m\u001b[0m\n\u001b[1;32m      6\u001b[0m \u001b[0mresults\u001b[0m \u001b[0;34m=\u001b[0m \u001b[0mpd\u001b[0m\u001b[0;34m.\u001b[0m\u001b[0mDataFrame\u001b[0m\u001b[0;34m(\u001b[0m\u001b[0mlist\u001b[0m\u001b[0;34m(\u001b[0m\u001b[0mzip\u001b[0m\u001b[0;34m(\u001b[0m\u001b[0my_hat\u001b[0m\u001b[0;34m,\u001b[0m \u001b[0mX\u001b[0m\u001b[0;34m)\u001b[0m\u001b[0;34m)\u001b[0m\u001b[0;34m,\u001b[0m \u001b[0mcolumns\u001b[0m\u001b[0;34m=\u001b[0m\u001b[0;34m[\u001b[0m\u001b[0;34m\"y_hat\"\u001b[0m\u001b[0;34m,\u001b[0m \u001b[0;34m\"var\"\u001b[0m\u001b[0;34m]\u001b[0m\u001b[0;34m)\u001b[0m\u001b[0;34m\u001b[0m\u001b[0m\n",
      "\u001b[0;31mNameError\u001b[0m: name 'X' is not defined"
     ]
    },
    {
     "data": {
      "image/png": "[encoded data removed]",
      "text/plain": [
       "<Figure size 1080x360 with 2 Axes>"
      ]
     },
     "metadata": {},
     "output_type": "display_data"
    }
   ],
   "source": [
    "fig, ax = plt.subplots(nrows=1, ncols=2, figsize=(15, 5))\n",
    "fig.suptitle(\"LSTM: Timestep $-1$, Dropout: .2, units: 25, epochs: 1300, validation: .3, loss: RMSLogE\")\n",
    "\n",
    "y_hat = model.predict(X)\n",
    "\n",
    "results = pd.DataFrame(list(zip(y_hat, X)), columns=[\"y_hat\", \"var\"])\n",
    "results['y_hat'] = results['y_hat'].map(lambda y_hat: y_hat[0])\n",
    "results['var'] = results['var'] = results['var'].map(lambda var: var[0][0])\n",
    "results.plot(ax=ax[1])\n",
    "metrics.plot(ax=ax[0])\n"
   ]
  },
  {
   "cell_type": "code",
   "execution_count": 8,
   "metadata": {},
   "outputs": [],
   "source": [
    "model = Sequential()\n",
    "model.add(Dense(8, input_dim=4, activation='relu'))\n",
    "model.add(Dense(3, activation='softmax'))\n",
    "model.compile(loss='categorical_crossentropy', optimizer='adam', metrics=['accuracy'])"
   ]
  },
  {
   "cell_type": "code",
   "execution_count": null,
   "metadata": {},
   "outputs": [],
   "source": []
  }
 ],
 "metadata": {
  "kernelspec": {
   "display_name": "Python [default]",
   "language": "python",
   "name": "python3"
  },
  "language_info": {
   "codemirror_mode": {
    "name": "ipython",
    "version": 3
   },
   "file_extension": ".py",
   "mimetype": "text/x-python",
   "name": "python",
   "nbconvert_exporter": "python",
   "pygments_lexer": "ipython3",
   "version": "3.6.5"
  }
 },
 "nbformat": 4,
 "nbformat_minor": 2
}
