{
 "cells": [
  {
   "cell_type": "markdown",
   "metadata": {},
   "source": [
    "# Wheat Market Analysis\n",
    "## LSTM Notebook\n",
    "\n",
    "### Matthew Garton - October 2018\n",
    "\n",
    "**Purpose:** The purpose of this notebook is to try a neural network approach to recognizing patterns and predicting Wheat Futures Price data. I will attempt to build a LSTM model.\n",
    "\n",
    "**Context**: The ultimate goal of my project is to develop a trading strategy for commodity futures, which will include both prediction modeling to identify price patterns and trading opportunities as well as a rules-based algorithm to make trading decisions and manage risk."
   ]
  },
  {
   "cell_type": "code",
   "execution_count": 2,
   "metadata": {},
   "outputs": [],
   "source": [
    "import numpy as np, pandas as pd\n",
    "import matplotlib.pyplot as plt\n",
    "\n",
    "import math\n",
    "\n",
    "from keras.models import Sequential\n",
    "from keras.layers import Dense, Dropout\n",
    "from keras.layers import LSTM\n",
    "\n",
    "from sklearn.preprocessing import MinMaxScaler\n",
    "from sklearn.metrics import mean_squared_error\n",
    "from sklearn.cross_validation import train_test_split\n",
    "\n",
    "%matplotlib inline\n",
    "\n",
    "import warnings\n",
    "warnings.filterwarnings(\"ignore\")"
   ]
  },
  {
   "cell_type": "code",
   "execution_count": 3,
   "metadata": {},
   "outputs": [],
   "source": [
    "wheat = pd.read_csv('../data/wheat_final_modeling.csv', index_col='Date', parse_dates=True)"
   ]
  },
  {
   "cell_type": "markdown",
   "metadata": {},
   "source": [
    "## Data Preparation\n",
    "\n",
    "To prepare the data for LSTM modeling, I first create windows so that I can use multiple steps of historical data to predict the next data point. The window size is a hyperparameter which can be tuned over to improve model performance."
   ]
  },
  {
   "cell_type": "code",
   "execution_count": 4,
   "metadata": {},
   "outputs": [],
   "source": [
    "def create_window(df, window_size = 1):    \n",
    "    '''Return a dataframe with columns for each step in the window'''\n",
    "    \n",
    "    copy = df.copy()\n",
    "    \n",
    "    # for each row in the dataframe, add 'window size' columns,\n",
    "    # each one representing the subsequent period's observation\n",
    "    for i in range(window_size):\n",
    "        df = pd.concat([df, copy.shift(-(i + 1))], \n",
    "                            axis = 1)\n",
    "        \n",
    "    df.dropna(axis=0, inplace=True)\n",
    "    \n",
    "    return df"
   ]
  },
  {
   "cell_type": "markdown",
   "metadata": {},
   "source": [
    "There are a number of hyperparameters which can be tuned over in this framework. As an area for further refinement, I'd like to gridsearch over them to find the best possible model. For now, I'll instantiate all as variables in the cell below, and pass them as arguments into the model funtions. This will make it easier for me to manually tweak and tune the model."
   ]
  },
  {
   "cell_type": "code",
   "execution_count": 5,
   "metadata": {},
   "outputs": [],
   "source": [
    "# Model Parameters\n",
    "window_size = 1\n",
    "units = 25\n",
    "activation = 'relu'\n",
    "dropout = 0.2\n",
    "epochs = 100\n",
    "batch_size = 50\n",
    "validation = 0.3"
   ]
  },
  {
   "cell_type": "code",
   "execution_count": 6,
   "metadata": {},
   "outputs": [],
   "source": [
    "# Create dataset\n",
    "wheat_window = create_window(wheat['2017']['Settle'], window_size = window_size)\n",
    "\n",
    "# Create holdout set\n",
    "test_window = create_window(wheat['2018'], window_size = window_size)\n",
    "\n",
    "# X, y split - X is columns up to window size, y is the final observation in the window\n",
    "X = wheat_window.iloc[:, 0:window_size]\n",
    "y = wheat_window.iloc[:, window_size]"
   ]
  },
  {
   "cell_type": "code",
   "execution_count": 7,
   "metadata": {},
   "outputs": [
    {
     "data": {
      "text/html": [
       "<div>\n",
       "<style scoped>\n",
       "    .dataframe tbody tr th:only-of-type {\n",
       "        vertical-align: middle;\n",
       "    }\n",
       "\n",
       "    .dataframe tbody tr th {\n",
       "        vertical-align: top;\n",
       "    }\n",
       "\n",
       "    .dataframe thead th {\n",
       "        text-align: right;\n",
       "    }\n",
       "</style>\n",
       "<table border=\"1\" class=\"dataframe\">\n",
       "  <thead>\n",
       "    <tr style=\"text-align: right;\">\n",
       "      <th></th>\n",
       "      <th>Settle</th>\n",
       "    </tr>\n",
       "    <tr>\n",
       "      <th>Date</th>\n",
       "      <th></th>\n",
       "    </tr>\n",
       "  </thead>\n",
       "  <tbody>\n",
       "    <tr>\n",
       "      <th>2017-01-03</th>\n",
       "      <td>406.50</td>\n",
       "    </tr>\n",
       "    <tr>\n",
       "      <th>2017-01-04</th>\n",
       "      <td>418.50</td>\n",
       "    </tr>\n",
       "    <tr>\n",
       "      <th>2017-01-05</th>\n",
       "      <td>426.25</td>\n",
       "    </tr>\n",
       "    <tr>\n",
       "      <th>2017-01-06</th>\n",
       "      <td>423.25</td>\n",
       "    </tr>\n",
       "    <tr>\n",
       "      <th>2017-01-09</th>\n",
       "      <td>427.25</td>\n",
       "    </tr>\n",
       "    <tr>\n",
       "      <th>2017-01-10</th>\n",
       "      <td>426.75</td>\n",
       "    </tr>\n",
       "  </tbody>\n",
       "</table>\n",
       "</div>"
      ],
      "text/plain": [
       "            Settle\n",
       "Date              \n",
       "2017-01-03  406.50\n",
       "2017-01-04  418.50\n",
       "2017-01-05  426.25\n",
       "2017-01-06  423.25\n",
       "2017-01-09  427.25\n",
       "2017-01-10  426.75"
      ]
     },
     "metadata": {},
     "output_type": "display_data"
    },
    {
     "data": {
      "text/plain": [
       "Date\n",
       "2017-01-03    418.50\n",
       "2017-01-04    426.25\n",
       "2017-01-05    423.25\n",
       "2017-01-06    427.25\n",
       "2017-01-09    426.75\n",
       "Name: Settle, dtype: float64"
      ]
     },
     "metadata": {},
     "output_type": "display_data"
    }
   ],
   "source": [
    "display(X.head(6))\n",
    "display(y.head())"
   ]
  },
  {
   "cell_type": "code",
   "execution_count": 8,
   "metadata": {},
   "outputs": [],
   "source": [
    "# Reshape data to fit in the model\n",
    "X = np.reshape(X.values, (X.shape[0], 1, X.shape[1]))"
   ]
  },
  {
   "cell_type": "code",
   "execution_count": 9,
   "metadata": {},
   "outputs": [],
   "source": [
    "# Instantiate and fit the LSTM network\n",
    "model = Sequential()\n",
    "\n",
    "model.add(LSTM(input_shape=(X.shape[1], X.shape[2]), units=units, activation=activation))\n",
    "model.add(Dropout(dropout))\n",
    "model.add(Dense(1))\n",
    "model.compile(loss='mean_squared_logarithmic_error', optimizer='adam')\n",
    "history = model.fit(x=X, y=y.values, epochs=epochs, batch_size=batch_size, verbose=0, validation_split=validation)"
   ]
  },
  {
   "cell_type": "code",
   "execution_count": 9,
   "metadata": {},
   "outputs": [],
   "source": [
    "# Save Training Loss and Validation Loss in a df\n",
    "metrics = pd.DataFrame(history.history, columns=['val_loss', 'loss'])"
   ]
  },
  {
   "cell_type": "code",
   "execution_count": 10,
   "metadata": {},
   "outputs": [
    {
     "data": {
      "image/png": "[encoded data removed]",
      "text/plain": [
       "<Figure size 1080x360 with 2 Axes>"
      ]
     },
     "metadata": {},
     "output_type": "display_data"
    }
   ],
   "source": [
    "fig, ax = plt.subplots(nrows=1, ncols=2, figsize=(15, 5))\n",
    "fig.suptitle(\"LSTM: Timestep $-{}$, Dropout: {}, units: {}, epochs: {}, validation: {}, loss: RMSLogE\".format(\n",
    "    window_size, dropout, units, epochs, validation))\n",
    "\n",
    "# Generate Predictions\n",
    "y_hat = model.predict(X)\n",
    "\n",
    "results = pd.DataFrame(list(zip(y_hat, X)), columns=[\"y_hat\", \"var\"])\n",
    "results['y_hat'] = results['y_hat'].map(lambda y_hat: y_hat[0])\n",
    "results['var'] = results['var'].map(lambda var: var[0][0])\n",
    "results.plot(ax=ax[1])\n",
    "metrics.plot(ax=ax[0]);"
   ]
  },
  {
   "cell_type": "markdown",
   "metadata": {},
   "source": [
    "## Observations\n",
    "\n",
    "The model seems promising so far, although I am concerned about overfitting. Additionally, I think predicting forward one point is of limited value, so I need to work on predicting further out. "
   ]
  }
 ],
 "metadata": {
  "kernelspec": {
   "display_name": "Python [conda env:dsi]",
   "language": "python",
   "name": "conda-env-dsi-py"
  },
  "language_info": {
   "codemirror_mode": {
    "name": "ipython",
    "version": 3
   },
   "file_extension": ".py",
   "mimetype": "text/x-python",
   "name": "python",
   "nbconvert_exporter": "python",
   "pygments_lexer": "ipython3",
   "version": "3.6.5"
  }
 },
 "nbformat": 4,
 "nbformat_minor": 2
}
